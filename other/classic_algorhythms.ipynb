{
 "cells": [
  {
   "cell_type": "markdown",
   "id": "628fa8e3",
   "metadata": {
    "pycharm": {
     "name": "#%% md\n"
    }
   },
   "source": [
    "# Алгоритмы\n",
    "\n",
    "## Binary_Search\n",
    "\n",
    "\n",
    "URL: https://github.com/egonSchiele/grokking_algorithms"
   ]
  },
  {
   "cell_type": "code",
   "execution_count": 1,
   "id": "201fe2ca",
   "metadata": {
    "pycharm": {
     "name": "#%%\n"
    }
   },
   "outputs": [],
   "source": [
    "import math as math\n",
    "\n",
    "from time import time"
   ]
  },
  {
   "cell_type": "code",
   "execution_count": 2,
   "id": "df7cd5e1",
   "metadata": {
    "pycharm": {
     "name": "#%%\n"
    }
   },
   "outputs": [],
   "source": [
    "def binary_search(array, item):\n",
    "    \"\"\"\n",
    "    Бинарный поиск по предварительно отсортированному массиву.\n",
    "    Возвращает индекс элемента\n",
    "    \"\"\"\n",
    "    \n",
    "    \n",
    "    low = 0\n",
    "    high = len(array) - 1\n",
    "    \n",
    "    while low <= high:\n",
    "        \n",
    "        mid = int((low+high)/2) # получаем индекс середины\n",
    "        \n",
    "        guess = array[mid]\n",
    "        \n",
    "        if guess == item:\n",
    "            \n",
    "            return mid\n",
    "        \n",
    "        if guess > item:\n",
    "            high = mid - 1 #урезаем массив вполовину\n",
    "            \n",
    "        else:\n",
    "            low = mid + 1\n",
    "            \n",
    "    return None"
   ]
  },
  {
   "cell_type": "code",
   "execution_count": 3,
   "id": "7c40457f",
   "metadata": {
    "pycharm": {
     "name": "#%%\n"
    }
   },
   "outputs": [
    {
     "data": {
      "text/plain": [
       "4"
      ]
     },
     "execution_count": 3,
     "metadata": {},
     "output_type": "execute_result"
    }
   ],
   "source": [
    "my_list = [1,4,6,8,10,43,45]\n",
    "\n",
    "binary_search(my_list, 10)"
   ]
  },
  {
   "cell_type": "markdown",
   "id": "a74f53bc",
   "metadata": {
    "pycharm": {
     "name": "#%% md\n"
    }
   },
   "source": [
    "## Сумма элементов массива:"
   ]
  },
  {
   "cell_type": "code",
   "execution_count": 4,
   "id": "9157cd2e",
   "metadata": {
    "pycharm": {
     "name": "#%%\n"
    }
   },
   "outputs": [],
   "source": [
    "def sum_list(X):\n",
    "    \n",
    "    if X == []:\n",
    "        return 0\n",
    "    \n",
    "    else:\n",
    "        return X[0] + sum_list(X[1:])\n",
    "    \n",
    "\n",
    "def count_list(X):\n",
    "    \n",
    "    if X == []:\n",
    "        return 0\n",
    "    \n",
    "    else:\n",
    "        return 1 + sum_list(X[1:])\n",
    "    \n",
    "def fact(n):\n",
    "    \n",
    "    if n == 1:\n",
    "        return 1\n",
    "    \n",
    "    return n * fact(n-1)"
   ]
  },
  {
   "cell_type": "code",
   "execution_count": 5,
   "id": "c704029a",
   "metadata": {
    "pycharm": {
     "name": "#%%\n"
    }
   },
   "outputs": [
    {
     "name": "stdout",
     "output_type": "stream",
     "text": [
      "807 ns ± 3.57 ns per loop (mean ± std. dev. of 7 runs, 1000000 loops each)\n"
     ]
    }
   ],
   "source": [
    "%timeit sum_list(my_list)"
   ]
  },
  {
   "cell_type": "code",
   "execution_count": 6,
   "id": "be7d6c52",
   "metadata": {
    "pycharm": {
     "name": "#%%\n"
    }
   },
   "outputs": [
    {
     "name": "stdout",
     "output_type": "stream",
     "text": [
      "2.41 µs ± 9.9 ns per loop (mean ± std. dev. of 7 runs, 100000 loops each)\n"
     ]
    }
   ],
   "source": [
    "%timeit np.sum(my_list)"
   ]
  },
  {
   "cell_type": "markdown",
   "id": "ec3a091e",
   "metadata": {
    "pycharm": {
     "name": "#%% md\n"
    }
   },
   "source": [
    "# Сортировка"
   ]
  },
  {
   "cell_type": "markdown",
   "id": "998ccf35",
   "metadata": {
    "pycharm": {
     "name": "#%% md\n"
    }
   },
   "source": [
    "## Сортировка выбором (selection sort)"
   ]
  },
  {
   "cell_type": "code",
   "execution_count": 7,
   "id": "83f4294e",
   "metadata": {
    "pycharm": {
     "name": "#%%\n"
    }
   },
   "outputs": [],
   "source": [
    "def findSmallest(arr):\n",
    "    \"\"\"\n",
    "    Находим индекс наименьшего элемента из списка\n",
    "    \"\"\"\n",
    "    \n",
    "    smallest = arr[0]\n",
    "    smallest_index = 0\n",
    "    \n",
    "    for i in range(1, len(arr)):\n",
    "        if arr[i] < smallest:\n",
    "            smallest = arr[i]\n",
    "            smallest_index = i\n",
    "        \n",
    "    return smallest_index\n",
    "    \n",
    "def selectionSort(arr):\n",
    "    \"\"\"\n",
    "    Составляем список последовательным отбором наибольшего элемента\n",
    "    \"\"\"\n",
    "    \n",
    "    \n",
    "    newArr = []\n",
    "    \n",
    "    for i in range(len(arr)):\n",
    "        smallest = findSmallest(arr)\n",
    "        newArr.append(arr.pop(smallest)) # pop возвращает и удаляет элемент массива по его индексу\n",
    "        \n",
    "    return newArr"
   ]
  },
  {
   "cell_type": "markdown",
   "id": "b198a2c7",
   "metadata": {
    "pycharm": {
     "name": "#%% md\n"
    }
   },
   "source": [
    "## Быстрая сортировка (quick sort)"
   ]
  },
  {
   "cell_type": "code",
   "execution_count": 2,
   "id": "786d0a42",
   "metadata": {
    "pycharm": {
     "name": "#%%\n"
    }
   },
   "outputs": [],
   "source": [
    "def quickSort(arr):\n",
    "    \n",
    "    if len(arr) < 2:\n",
    "        return arr\n",
    "    \n",
    "    else:\n",
    "        p_idx = math.random.randint(0,len(arr))\n",
    "        pivot = arr[p_idx]\n",
    "        \n",
    "        less = [i for i in arr[1:] if i <= pivot]\n",
    "    \n",
    "        greater = [i for i in arr[1:] if i > pivot]\n",
    "        \n",
    "        return quickSort(less) + [pivot] + quickSort(greater)"
   ]
  },
  {
   "cell_type": "code",
   "execution_count": 9,
   "id": "6c0f2eab",
   "metadata": {
    "pycharm": {
     "name": "#%%\n"
    }
   },
   "outputs": [
    {
     "name": "stdout",
     "output_type": "stream",
     "text": [
      "[954974, 948983, 773381, 317298, 779562, 906470, 367887, 603967, 163306, 40510]\n"
     ]
    }
   ],
   "source": [
    "# Массив для тестов скорости работы\n",
    "\n",
    "\n",
    "list_to_sort = list(np.random.randint(0,1000000, size = 10**5))\n",
    "\n",
    "print(list_to_sort[:10])"
   ]
  },
  {
   "cell_type": "code",
   "execution_count": 10,
   "id": "ba7194da",
   "metadata": {
    "pycharm": {
     "name": "#%%\n"
    }
   },
   "outputs": [
    {
     "name": "stdout",
     "output_type": "stream",
     "text": [
      "The slowest run took 6.49 times longer than the fastest. This could mean that an intermediate result is being cached.\n",
      "322 ns ± 312 ns per loop (mean ± std. dev. of 7 runs, 1 loop each)\n"
     ]
    }
   ],
   "source": [
    "%timeit selectionSort(list_to_sort)"
   ]
  },
  {
   "cell_type": "code",
   "execution_count": 11,
   "id": "be7cffe2",
   "metadata": {
    "pycharm": {
     "name": "#%%\n"
    }
   },
   "outputs": [
    {
     "name": "stdout",
     "output_type": "stream",
     "text": [
      "80.2 ns ± 0.216 ns per loop (mean ± std. dev. of 7 runs, 10000000 loops each)\n"
     ]
    }
   ],
   "source": [
    "%timeit quickSort(list_to_sort)"
   ]
  },
  {
   "cell_type": "markdown",
   "id": "a2c1a1ab",
   "metadata": {
    "pycharm": {
     "name": "#%% md\n"
    }
   },
   "source": [
    "# Поиск в ширину (Breadth-First Search)"
   ]
  },
  {
   "cell_type": "code",
   "execution_count": 8,
   "id": "c005b89b",
   "metadata": {
    "pycharm": {
     "name": "#%%\n"
    }
   },
   "outputs": [],
   "source": [
    "from collections import deque\n",
    "\n",
    "graph = {}\n",
    "\n",
    "graph['you'] = ['alice', 'bob','claire']\n",
    "graph['bob'] = ['anuj','peggy']\n",
    "graph['alice'] = ['peggy']\n",
    "graph['claire'] = ['tom','jonny']\n",
    "graph['anuj'] = []\n",
    "graph['peggy'] = []\n",
    "graph['tom'] = []\n",
    "graph['jonny'] = []"
   ]
  },
  {
   "cell_type": "code",
   "execution_count": 14,
   "id": "b6e337c6",
   "metadata": {
    "pycharm": {
     "name": "#%%\n"
    }
   },
   "outputs": [],
   "source": [
    "sellers = {'anuj'}\n",
    "\n",
    "def is_seller(name):\n",
    "    \n",
    "    return (name in sellers)\n",
    "    \n",
    "\n",
    "\n",
    "def bfs_search(name):\n",
    "    search_queue  = deque()\n",
    "    search_queue += graph[name]\n",
    "    searched = []\n",
    "    \n",
    "    while search_queue:\n",
    "        print(searched)\n",
    "        print(search_queue)\n",
    "        person = search_queue.popleft()\n",
    "        \n",
    "        if not person in searched:\n",
    "            if is_seller(person):\n",
    "                print(person + ' is a mango seller!')\n",
    "                return True\n",
    "            else:\n",
    "                search_queue += graph[person]\n",
    "                searched.append(person)\n",
    "\n",
    "\n",
    "                \n",
    "    return False"
   ]
  },
  {
   "cell_type": "markdown",
   "id": "16906dbc",
   "metadata": {
    "pycharm": {
     "name": "#%% md\n"
    }
   },
   "source": [
    "# Алгоритм Дейкстры"
   ]
  },
  {
   "cell_type": "code",
   "execution_count": 83,
   "id": "faee16e0",
   "metadata": {
    "pycharm": {
     "name": "#%%\n"
    }
   },
   "outputs": [],
   "source": [
    "# initializing hash tables\n",
    "\n",
    "graph = {}\n",
    "costs = {}\n",
    "parents = {}\n",
    "\n",
    "\n",
    "# appending nodes and their distances to each other into graph structure\n",
    "\n",
    "graph['start'] = {}\n",
    "graph['start']['a'] = 6\n",
    "graph['start']['b'] = 2\n",
    "\n",
    "graph['a'] = {}\n",
    "graph['a']['fin'] = 1\n",
    "\n",
    "graph['b'] = {}\n",
    "graph['b']['a'] = 3\n",
    "graph['b']['fin'] = 5\n",
    "\n",
    "graph['fin'] = {}\n",
    "\n",
    "\n",
    "# determing cost's table\n",
    "\n",
    "infinity = float('inf')\n",
    "\n",
    "costs = {}\n",
    "costs['a'] = 6\n",
    "costs['b'] = 3\n",
    "costs['fin'] = infinity\n",
    "\n",
    "# creating parents table\n",
    "\n",
    "parents = {}\n",
    "parents['a'] = 'start'\n",
    "parents['b'] = 'start'\n",
    "parents['fin'] = None\n",
    "\n",
    "proceed = []"
   ]
  },
  {
   "cell_type": "code",
   "execution_count": 84,
   "id": "3846d4d3",
   "metadata": {
    "pycharm": {
     "name": "#%%\n"
    }
   },
   "outputs": [],
   "source": [
    "def find_lowest_cost_node(costs):\n",
    "    lowest_cost = infinity\n",
    "    lowest_cost_node = None\n",
    "    \n",
    "    for node in costs:\n",
    "        cost = costs[node]\n",
    "        \n",
    "        if cost < lowest_cost and node not in proceed:\n",
    "            lowest_cost = cost\n",
    "            lowest_cost_node = node\n",
    "            \n",
    "    return lowest_cost_node"
   ]
  },
  {
   "cell_type": "code",
   "execution_count": 85,
   "id": "05a82370",
   "metadata": {
    "pycharm": {
     "name": "#%%\n"
    }
   },
   "outputs": [],
   "source": [
    "node = find_lowest_cost_node(costs) # начинаем с узла с наименьшей стоимостью среди необработанных\n",
    "\n",
    "while node is not None:\n",
    "    cost = costs[node]\n",
    "    neighbors = graph[node]\n",
    "    \n",
    "    for n in neighbors.keys():\n",
    "        new_cost = cost + neighbors[n]\n",
    "        \n",
    "        if costs[n] > new_cost:\n",
    "            costs[n] = new_cost\n",
    "            parents[n] = node\n",
    "            \n",
    "    proceed.append(node)\n",
    "    \n",
    "    node = find_lowest_cost_node(costs)"
   ]
  },
  {
   "cell_type": "code",
   "execution_count": 86,
   "id": "d27d2714",
   "metadata": {
    "pycharm": {
     "name": "#%%\n"
    }
   },
   "outputs": [
    {
     "data": {
      "text/plain": [
       "{'a': 'start', 'b': 'start', 'fin': 'a'}"
      ]
     },
     "execution_count": 86,
     "metadata": {},
     "output_type": "execute_result"
    }
   ],
   "source": [
    "parents"
   ]
  },
  {
   "cell_type": "markdown",
   "id": "34faf26e",
   "metadata": {
    "pycharm": {
     "name": "#%% md\n"
    }
   },
   "source": [
    "# Жадный алгоритм"
   ]
  },
  {
   "cell_type": "code",
   "execution_count": 12,
   "id": "17432b65",
   "metadata": {
    "pycharm": {
     "name": "#%%\n"
    }
   },
   "outputs": [
    {
     "name": "stdout",
     "output_type": "stream",
     "text": [
      "{'ktwo', 'kone', 'kfive', 'kthree'}\n"
     ]
    }
   ],
   "source": [
    "states_needed = set([\"mt\", \"wa\", \"or\", \"id\", \"nv\", \"ut\", \"ca\", \"az\"])\n",
    "\n",
    "stations = {}\n",
    "stations[\"kone\"] = set([\"id\", \"nv\", \"ut\"])\n",
    "stations[\"ktwo\"] = set([\"wa\", \"id\", \"mt\"])\n",
    "stations[\"kthree\"] = set([\"or\", \"nv\", \"ca\"])\n",
    "stations[\"kfour\"] = set([\"nv\", \"ut\"])\n",
    "stations[\"kfive\"] = set([\"ca\", \"az\"])\n",
    "\n",
    "final_stations = set()\n",
    "\n",
    "while states_needed:\n",
    "    best_station = None\n",
    "    states_covered = set()\n",
    "    for station, states_for_station in stations.items():\n",
    "        covered = states_needed & states_for_station\n",
    "        if len(covered) > len(states_covered):\n",
    "            best_station = station\n",
    "            states_covered = covered\n",
    "\n",
    "    states_needed -= states_covered\n",
    "    final_stations.add(best_station)\n",
    "\n",
    "print(final_stations)"
   ]
  },
  {
   "cell_type": "markdown",
   "id": "3a19350f",
   "metadata": {
    "pycharm": {
     "name": "#%% md\n"
    }
   },
   "source": [
    "# Динамическое программирование\n",
    "\n",
    "## Поиск наиболее длиной подстроки"
   ]
  },
  {
   "cell_type": "code",
   "execution_count": 50,
   "id": "18602c75",
   "metadata": {
    "pycharm": {
     "name": "#%%\n"
    }
   },
   "outputs": [],
   "source": [
    "word_a = 'fish'\n",
    "word_b = 'hish'\n",
    "\n",
    "cell = [[0 for i in range(len(word_a))] for i in range(len(word_b))]\n",
    "\n",
    "for i in range(0,len(word_a)):\n",
    "    for j in range(0,len(word_a)):\n",
    "        if word_a[i] == word_b[j]:\n",
    "            \n",
    "            # The letters match.\n",
    "            cell[i][j] = cell[i-1][j-1] + 1\n",
    "        else:\n",
    "            \n",
    "            # The letters don't match.    \n",
    "            cell[i][j] = max(cell[i-1][j], cell[i][j-1])"
   ]
  },
  {
   "cell_type": "code",
   "execution_count": null,
   "id": "bc8242d3",
   "metadata": {
    "pycharm": {
     "name": "#%%\n"
    }
   },
   "outputs": [],
   "source": []
  }
 ],
 "metadata": {
  "kernelspec": {
   "display_name": "Python 3",
   "language": "python",
   "name": "python3"
  },
  "language_info": {
   "codemirror_mode": {
    "name": "ipython",
    "version": 3
   },
   "file_extension": ".py",
   "mimetype": "text/x-python",
   "name": "python",
   "nbconvert_exporter": "python",
   "pygments_lexer": "ipython3",
   "version": "3.9.4"
  }
 },
 "nbformat": 4,
 "nbformat_minor": 5
}