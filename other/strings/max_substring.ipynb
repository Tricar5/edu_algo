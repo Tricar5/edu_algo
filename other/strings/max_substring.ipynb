{
 "cells": [
  {
   "cell_type": "code",
   "execution_count": 20,
   "outputs": [
    {
     "data": {
      "text/plain": "'hello'"
     },
     "execution_count": 20,
     "metadata": {},
     "output_type": "execute_result"
    }
   ],
   "source": [
    "# Naive\n",
    "\n",
    "def find_max_substring(s1, s2):\n",
    "    #Counters\n",
    "    max_len = 0\n",
    "    endIndex= len(s1)\n",
    "    # Zero matrix\n",
    "    m = [[0 for i in range(len(s1)+1)] for j in range(len(s2)+1)]\n",
    "\n",
    "    # Matrix filling\n",
    "\n",
    "    for i in range(1,len(s1)+1):\n",
    "        for j in range(1,len(s2)+1):\n",
    "            if s1[i-1] == s2[j-1]:\n",
    "                m[i][j] = m[i-1][j-1] + 1\n",
    "\n",
    "                # Если текущая последовательность больше этой длины\n",
    "                if m[i][j] > max_len:\n",
    "                    # Обновить максимальную длину\n",
    "                    max_len = m[i][j]\n",
    "                    # Обновить конечный индекс\n",
    "                    endIndex = i\n",
    "\n",
    "    return s1[endIndex - max_len:endIndex]\n",
    "\n",
    "\n",
    "find_max_substring('hello', 'hello')"
   ],
   "metadata": {
    "collapsed": false,
    "pycharm": {
     "name": "#%%\n"
    }
   }
  },
  {
   "cell_type": "code",
   "execution_count": null,
   "outputs": [],
   "source": [],
   "metadata": {
    "collapsed": false,
    "pycharm": {
     "name": "#%%\n"
    }
   }
  }
 ],
 "metadata": {
  "kernelspec": {
   "display_name": "Python 3",
   "language": "python",
   "name": "python3"
  },
  "language_info": {
   "codemirror_mode": {
    "name": "ipython",
    "version": 2
   },
   "file_extension": ".py",
   "mimetype": "text/x-python",
   "name": "python",
   "nbconvert_exporter": "python",
   "pygments_lexer": "ipython2",
   "version": "2.7.6"
  }
 },
 "nbformat": 4,
 "nbformat_minor": 0
}