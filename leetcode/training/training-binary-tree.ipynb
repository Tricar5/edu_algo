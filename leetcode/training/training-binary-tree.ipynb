{
 "cells": [
  {
   "cell_type": "markdown",
   "source": [
    "#  Queue and Stack\n",
    "\n",
    "[Leetcode Link](https://leetcode.com/explore/learn/card/queue-stack/)"
   ],
   "metadata": {
    "collapsed": false,
    "pycharm": {
     "name": "#%% md\n"
    }
   }
  },
  {
   "cell_type": "markdown",
   "source": [
    "Given an m x n 2D binary grid grid which represents a map of '1's (land) and '0's (water), return the number of islands.\n",
    "\n",
    "An island is surrounded by water and is formed by connecting adjacent lands horizontally or vertically. You may assume all four edges of the grid are all surrounded by water.\n",
    "\n",
    "``` sh\n",
    "Input: grid = [\n",
    "  [\"1\",\"1\",\"1\",\"1\",\"0\"],\n",
    "  [\"1\",\"1\",\"0\",\"1\",\"0\"],\n",
    "  [\"1\",\"1\",\"0\",\"0\",\"0\"],\n",
    "  [\"0\",\"0\",\"0\",\"0\",\"0\"]\n",
    "]\n",
    "Output: 1\n",
    "```"
   ],
   "metadata": {
    "collapsed": false,
    "pycharm": {
     "name": "#%% md\n"
    }
   }
  },
  {
   "cell_type": "code",
   "execution_count": 4,
   "outputs": [],
   "source": [
    "from typing import List"
   ],
   "metadata": {
    "collapsed": false,
    "pycharm": {
     "name": "#%%\n"
    }
   }
  },
  {
   "cell_type": "code",
   "execution_count": 28,
   "outputs": [],
   "source": [
    "from collections import deque\n",
    "class Solution(object):\n",
    "\n",
    "    def numIslands(self, grid: List[List[str]]) -> int:\n",
    "\n",
    "        if not grid:\n",
    "            return 0\n",
    "\n",
    "        rows, cols = len(grid), len(grid[0])\n",
    "\n",
    "        visited = set()\n",
    "        islands = 0\n",
    "\n",
    "        def bfs(r, c):\n",
    "\n",
    "            q = deque()\n",
    "            visited.add((r, c))\n",
    "            q.append((r,c))\n",
    "\n",
    "            while q:\n",
    "                row, col = q.popleft()\n",
    "                directions = [[1,0],[-1, 0], [0,1], [0, -1]]\n",
    "\n",
    "                for dr, dc in directions:\n",
    "                    r, c = row + dr, col + dc\n",
    "                    if (r in range(rows) and\n",
    "                        c  in range(cols) and\n",
    "                        grid[r][c] == '1' and\n",
    "                        (r, c) not in visited):\n",
    "                        q.append((r, c))\n",
    "                        visited.add((r, c))\n",
    "\n",
    "        for r in range(rows):\n",
    "            for c in range(cols):\n",
    "                if grid[r][c] == '1' and (r, c) not in visited:\n",
    "                    bfs(r, c)\n",
    "                    islands += 1\n",
    "\n",
    "        return islands"
   ],
   "metadata": {
    "collapsed": false,
    "pycharm": {
     "name": "#%%\n"
    }
   }
  },
  {
   "cell_type": "code",
   "execution_count": 31,
   "outputs": [
    {
     "data": {
      "text/plain": "3"
     },
     "execution_count": 31,
     "metadata": {},
     "output_type": "execute_result"
    }
   ],
   "source": [
    "c = Solution()\n",
    "\n",
    "grid = [['0','1','0','0'],\n",
    "        ['0','0','1','0'],\n",
    "        ['0','0','0','1']]\n",
    "\n",
    "c.numIslands(grid)"
   ],
   "metadata": {
    "collapsed": false,
    "pycharm": {
     "name": "#%%\n"
    }
   }
  },
  {
   "cell_type": "code",
   "execution_count": null,
   "outputs": [],
   "source": [],
   "metadata": {
    "collapsed": false,
    "pycharm": {
     "name": "#%%\n"
    }
   }
  }
 ],
 "metadata": {
  "kernelspec": {
   "display_name": "Python 3",
   "language": "python",
   "name": "python3"
  },
  "language_info": {
   "codemirror_mode": {
    "name": "ipython",
    "version": 2
   },
   "file_extension": ".py",
   "mimetype": "text/x-python",
   "name": "python",
   "nbconvert_exporter": "python",
   "pygments_lexer": "ipython2",
   "version": "2.7.6"
  }
 },
 "nbformat": 4,
 "nbformat_minor": 0
}