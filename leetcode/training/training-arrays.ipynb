{
 "cells": [
  {
   "cell_type": "code",
   "execution_count": 1,
   "metadata": {
    "collapsed": true,
    "pycharm": {
     "name": "#%%\n"
    }
   },
   "outputs": [],
   "source": [
    "# ARRAY'S tasks"
   ]
  },
  {
   "cell_type": "code",
   "execution_count": 2,
   "outputs": [
    {
     "data": {
      "text/plain": "2"
     },
     "execution_count": 2,
     "metadata": {},
     "output_type": "execute_result"
    }
   ],
   "source": [
    "#   Max Consecutive Ones\n",
    "\n",
    "input_var = [1,1,0,0,1,1]\n",
    "\n",
    "class Solution:\n",
    "\n",
    "    def findMaxConsecutiveOnes(self, nums: list[int]) -> int:\n",
    "\n",
    "        length = 0\n",
    "\n",
    "        result = 0\n",
    "\n",
    "        for i in range(len(nums)):\n",
    "\n",
    "            if nums[i] == 0:\n",
    "\n",
    "                length = 0\n",
    "\n",
    "            if nums[i] == 1:\n",
    "\n",
    "                length +=1\n",
    "\n",
    "                result = max(result, length)\n",
    "\n",
    "        return result\n",
    "\n",
    "solver = Solution()\n",
    "\n",
    "solver.findMaxConsecutiveOnes(input_var)"
   ],
   "metadata": {
    "collapsed": false,
    "pycharm": {
     "name": "#%%\n"
    }
   }
  },
  {
   "cell_type": "code",
   "execution_count": 3,
   "outputs": [
    {
     "data": {
      "text/plain": "2"
     },
     "execution_count": 3,
     "metadata": {},
     "output_type": "execute_result"
    }
   ],
   "source": [
    "#Find numbers with even number of digits\n",
    "\n",
    "input_var = [12,345,2,6,7896]\n",
    "\n",
    "class Solution:\n",
    "    def findNumbers(self, nums: list[int]) -> int:\n",
    "        count = 0\n",
    "        for el in nums:\n",
    "            if self.countDigits(el) % 2 == 0:\n",
    "                count += 1\n",
    "\n",
    "        return count\n",
    "\n",
    "    def countDigits(self, num: int) -> int:\n",
    "\n",
    "        length = 0\n",
    "\n",
    "        while num != 0:\n",
    "\n",
    "            num = num // 10\n",
    "            length += 1\n",
    "        return length\n",
    "\n",
    "solver = Solution()\n",
    "\n",
    "solver.findNumbers(input_var)"
   ],
   "metadata": {
    "collapsed": false,
    "pycharm": {
     "name": "#%%\n"
    }
   }
  },
  {
   "cell_type": "code",
   "execution_count": 4,
   "outputs": [
    {
     "data": {
      "text/plain": "[0, 1, 9, 16, 100]"
     },
     "execution_count": 4,
     "metadata": {},
     "output_type": "execute_result"
    }
   ],
   "source": [
    "#   Squares of a Sorted Array\n",
    "\n",
    "\n",
    "input_var = [-4,-1,0,3,10]\n",
    "\n",
    "class Solution:\n",
    "    def sortedSquares(self, nums: list[int]) -> list[int]:\n",
    "        return self.sortElements(self.squareElements(nums))\n",
    "\n",
    "    def squareElements(self, nums: list[int]) -> list[int]:\n",
    "        return [x*x for x in nums]\n",
    "\n",
    "    def sortElements(self, nums: list[int]) -> list[int]:\n",
    "\n",
    "        if len(nums) < 2:\n",
    "            return nums\n",
    "\n",
    "        else:\n",
    "            p_idx = len(nums)//2\n",
    "            pivot = nums.pop(p_idx)\n",
    "\n",
    "            less = [x for x in nums if x <= pivot]\n",
    "\n",
    "            greater = [x for x in nums if x > pivot]\n",
    "\n",
    "            return self.sortElements(less) + [pivot] + self.sortElements(greater)\n",
    "\n",
    "\n",
    "solver = Solution()\n",
    "\n",
    "solver.sortedSquares(input_var)"
   ],
   "metadata": {
    "collapsed": false,
    "pycharm": {
     "name": "#%%\n"
    }
   }
  },
  {
   "cell_type": "code",
   "execution_count": 5,
   "outputs": [
    {
     "ename": "SyntaxError",
     "evalue": "unterminated string literal (detected at line 45) (1090395077.py, line 45)",
     "output_type": "error",
     "traceback": [
      "\u001B[0;36m  Input \u001B[0;32mIn [5]\u001B[0;36m\u001B[0m\n\u001B[0;31m    \"\"\"\"\u001B[0m\n\u001B[0m       ^\u001B[0m\n\u001B[0;31mSyntaxError\u001B[0m\u001B[0;31m:\u001B[0m unterminated string literal (detected at line 45)\n"
     ]
    }
   ],
   "source": [
    "# Inserting elements\n",
    "\n",
    "arr = [1,0,2,3,0,4,5,0]\n",
    "\n",
    "class Solution:\n",
    "    def duplicateZeros(self, arr: list[int]) -> None:\n",
    "        \"\"\"\n",
    "        Do not return anything, modify arr in-place instead.\n",
    "        \"\"\"\n",
    "        dup = 0\n",
    "        len_ = len(arr) - 1\n",
    "\n",
    "        for i in range(len_ + 1):\n",
    "            if i > len_ - dup:\n",
    "                break\n",
    "            if arr[i] == 0:\n",
    "                if i == len_ - dup:\n",
    "                    arr[len_] = 0\n",
    "                    len_ -= 1\n",
    "                    break\n",
    "                dup += 1\n",
    "\n",
    "        last = len_ - dup\n",
    "\n",
    "        for i in range(last, -1, -1):\n",
    "            if arr[i] == 0:\n",
    "                arr[i + dup] = 0\n",
    "                dup -= 1\n",
    "                arr[i + dup] = 0\n",
    "            else:\n",
    "                arr[i + dup] = arr[i]\n",
    "\n",
    "\n",
    "sol = Solution()\n",
    "\n",
    "sol.duplicateZeros(arr)\n"
   ],
   "metadata": {
    "collapsed": false,
    "pycharm": {
     "name": "#%%\n"
    }
   }
  },
  {
   "cell_type": "code",
   "execution_count": null,
   "outputs": [],
   "source": [],
   "metadata": {
    "collapsed": false,
    "pycharm": {
     "name": "#%%\n"
    }
   }
  },
  {
   "cell_type": "code",
   "execution_count": 1,
   "outputs": [],
   "source": [
    "class Solution:\n",
    "    def merge(self, nums1: list[int], m: int, nums2: list[int], n: int) -> None:\n",
    "        \"\"\"\n",
    "        Do not return anything, modify nums1 in-place instead.\n",
    "        \"\"\"\n",
    "\n",
    "        while m > 0 and n > 0:\n",
    "            if nums1[m-1] > nums2[n-1]:\n",
    "                nums1[m+n-1] = nums1[m-1]\n",
    "                m-=1\n",
    "            else:\n",
    "                nums1[m+n-1] = nums2[n-1]\n",
    "                n-=1\n",
    "        nums1[:n] = nums2[:n]"
   ],
   "metadata": {
    "collapsed": false,
    "pycharm": {
     "name": "#%%\n"
    }
   }
  },
  {
   "cell_type": "code",
   "execution_count": 2,
   "outputs": [
    {
     "name": "stdout",
     "output_type": "stream",
     "text": [
      "[1, 2, 4, 5, 6]\n"
     ]
    }
   ],
   "source": [
    "nums1 = [4,0,0,0,0]\n",
    "m = 1\n",
    "nums2 = [1,2,5,6]\n",
    "n = 4\n",
    "\n",
    "sol = Solution()\n",
    "\n",
    "sol.merge(nums1,m,nums2,n)\n",
    "print(nums1)"
   ],
   "metadata": {
    "collapsed": false,
    "pycharm": {
     "name": "#%%\n"
    }
   }
  },
  {
   "cell_type": "code",
   "execution_count": null,
   "outputs": [],
   "source": [
    "arr = [1,1,2,1,1,1]\n",
    "val = 1\n",
    "\n",
    "\n",
    "def removeElement(nums: list[int], val: int) -> int:\n",
    "\n",
    "    size = len(nums)\n",
    "    idx = 0\n",
    "\n",
    "    while idx < size:\n",
    "\n",
    "        if nums[idx] == val:\n",
    "            nums.pop(idx)\n",
    "            size-=1\n",
    "        else:\n",
    "            idx+=1\n",
    "\n",
    "    print(nums)\n",
    "\n",
    "    return size\n",
    "\n",
    "\n",
    "\n",
    "\n",
    "\n",
    "removeElement(arr,val)"
   ],
   "metadata": {
    "collapsed": false,
    "pycharm": {
     "name": "#%%\n"
    }
   }
  },
  {
   "cell_type": "code",
   "execution_count": 3,
   "outputs": [
    {
     "name": "stdout",
     "output_type": "stream",
     "text": [
      "[1, 1, 2, 2, 3, 4, 5, 5]\n",
      "5\n",
      "[1, 2, 3, 4, 5, 4, 5, 5]\n"
     ]
    }
   ],
   "source": [
    "arr  = [1,1,2,2,3,4,5,5]\n",
    "\n",
    "\"\"\"\n",
    "def removeDuplicates(nums: list[int]) -> int:\n",
    "\n",
    "    size = len(nums)\n",
    "    idx = 1\n",
    "    counter = len(nums)\n",
    "\n",
    "    while idx < counter:\n",
    "\n",
    "        if nums[idx] == nums[idx-1]:\n",
    "\n",
    "            for j in range(idx, size-1):\n",
    "                nums[j] = nums[j+1]\n",
    "\n",
    "            counter -= 1\n",
    "\n",
    "        else:\n",
    "            idx += 1\n",
    "\n",
    "    return counter\n",
    "\"\"\"\n",
    "\"\"\"\n",
    "def removeDuplicates(nums: list[int]) -> int:\n",
    "\n",
    "    size = len(nums)\n",
    "    idx = 1\n",
    "    cnt = len(nums)\n",
    "\n",
    "    while idx < cnt:\n",
    "\n",
    "        if nums[idx] == nums[idx-1]:\n",
    "\n",
    "            nums.pop(idx)\n",
    "            nums.insert(size-1, nums[idx-1])\n",
    "            cnt -= 1\n",
    "\n",
    "\n",
    "        else:\n",
    "            idx += 1\n",
    "\n",
    "    return cnt\n",
    "\"\"\"\n",
    "\n",
    "def removeDuplicates(nums: list[int]) -> int:\n",
    "\n",
    "    if len(nums) == 0: return 0\n",
    "\n",
    "    i = 0\n",
    "    for j in range(1, len(nums)):\n",
    "        if nums[j] != nums[i]:\n",
    "            i += 1\n",
    "            nums[i] = nums[j]\n",
    "\n",
    "    return i+1\n",
    "\n",
    "\n",
    "print(arr)\n",
    "print(removeDuplicates(arr))\n",
    "print(arr)"
   ],
   "metadata": {
    "collapsed": false,
    "pycharm": {
     "name": "#%%\n"
    }
   }
  },
  {
   "cell_type": "markdown",
   "source": [
    "# Search"
   ],
   "metadata": {
    "collapsed": false,
    "pycharm": {
     "name": "#%% md\n"
    }
   }
  },
  {
   "cell_type": "code",
   "execution_count": 45,
   "outputs": [
    {
     "data": {
      "text/plain": "True"
     },
     "execution_count": 45,
     "metadata": {},
     "output_type": "execute_result"
    }
   ],
   "source": [
    "# Check if N and its double in arr\n",
    "\n",
    "#arr = [-2,0,10,-19,4,6,-8]\n",
    "\n",
    "\n",
    "\"\"\"\n",
    "def checkIfExist(arr: list[int]) -> bool:\n",
    "\n",
    "\n",
    "    # n^2\n",
    "    for j in range(len(arr)):\n",
    "\n",
    "        for i in range(len(arr)):\n",
    "\n",
    "            if arr[i] == arr[j]/2 and j != i:\n",
    "\n",
    "                return True\n",
    "\n",
    "\n",
    "    return False\n",
    "    \"\"\"\n",
    "\n",
    "\n",
    "\n",
    "arr = [5,10, 3]\n",
    "\n",
    "def checkIfExist(arr: list[int]) -> bool:\n",
    "\n",
    "    # Хэш таблица\n",
    "    lookup = set()\n",
    "    # Итерация\n",
    "    for x in arr:\n",
    "        # Двойное условие\n",
    "        if 2*x in lookup or \\\n",
    "           (x%2 == 0 and x//2 in lookup):\n",
    "            return True\n",
    "        # Если не существует - добавить\n",
    "        lookup.add(x)\n",
    "    return False\n",
    "\n",
    "checkIfExist(arr)"
   ],
   "metadata": {
    "collapsed": false,
    "pycharm": {
     "name": "#%%\n"
    }
   }
  },
  {
   "cell_type": "code",
   "execution_count": null,
   "outputs": [],
   "source": [
    "\"\"\"\n",
    "Дан массив arr[int], где необходимо осуществить проверку, что он монотонно возрастает до некоторого элемента, а потом монотонно убывает до конца\n",
    "\"\"\"\n",
    "\n",
    "class Solution(object):\n",
    "    def validMountainArray(self, A):\n",
    "        N = len(A)\n",
    "        i = 0\n",
    "\n",
    "        # Идем вверх по элементам массива\n",
    "        while i+1 < N and A[i] < A[i+1]:\n",
    "            i += 1\n",
    "\n",
    "        if i == 0 or i == N-1:\n",
    "            return False\n",
    "\n",
    "        # Спускаемся\n",
    "        while i+1 < N and A[i] > A[i+1]:\n",
    "            i += 1\n",
    "\n",
    "        return i == N-1\n",
    "\n",
    "\n",
    "\n",
    "\n",
    "#arr = [0,2,3,4,5,4,2,1]\n",
    "\n",
    "arr = [2,1]\n",
    "\n",
    "sol = Solution()\n",
    "\n",
    "sol.validMountainArray(arr)"
   ],
   "metadata": {
    "collapsed": false,
    "pycharm": {
     "name": "#%%\n"
    }
   }
  },
  {
   "cell_type": "markdown",
   "source": [
    "## In-Place Operations"
   ],
   "metadata": {
    "collapsed": false,
    "pycharm": {
     "name": "#%% md\n"
    }
   }
  },
  {
   "cell_type": "code",
   "execution_count": 56,
   "outputs": [
    {
     "name": "stdout",
     "output_type": "stream",
     "text": [
      "[17, 18, 5, 4, 6, 1]\n"
     ]
    },
    {
     "data": {
      "text/plain": "[18, 6, 6, 6, 1, -1]"
     },
     "execution_count": 56,
     "metadata": {},
     "output_type": "execute_result"
    }
   ],
   "source": [
    "# Replace elements to their right greatest\n",
    "\n",
    "\n",
    "class Solution:\n",
    "    def replaceElements(self, arr: list[int]) -> list[int]:\n",
    "\n",
    "        r_greatest = arr[-1]\n",
    "\n",
    "        arr[-1] = -1\n",
    "\n",
    "        for i in range(len(arr)-2, -1, -1):\n",
    "\n",
    "            if arr[i] > r_greatest:\n",
    "                t = arr[i]\n",
    "\n",
    "                arr[i] = r_greatest\n",
    "                r_greatest = t\n",
    "\n",
    "            else:\n",
    "                arr[i] = r_greatest\n",
    "\n",
    "        return arr\n",
    "\n",
    "arr = [17,18,5,4,6,1]\n",
    "\n",
    "sol = Solution()\n",
    "\n",
    "print(arr)\n",
    "sol.replaceElements(arr)"
   ],
   "metadata": {
    "collapsed": false,
    "pycharm": {
     "name": "#%%\n"
    }
   }
  },
  {
   "cell_type": "code",
   "execution_count": 69,
   "outputs": [
    {
     "name": "stdout",
     "output_type": "stream",
     "text": [
      "5\n",
      "5\n"
     ]
    }
   ],
   "source": [
    "#https://leetcode.com/explore/learn/card/fun-with-arrays/511/in-place-operations/3255/\n",
    "\n",
    "class Solution:\n",
    "    def removeDuplicates(self, nums: list[int]) -> int:\n",
    "        if (len(nums) == 0 or nums == None): return 0\n",
    "\n",
    "        i = 0\n",
    "\n",
    "\n",
    "        for j in range(1, len(nums)):\n",
    "\n",
    "            if nums[j] != nums[i] :\n",
    "                i += 1\n",
    "                nums[i] = nums[j]\n",
    "        return i+1\n",
    "\n",
    "\n",
    "arr = [0,0,1,1,1,2,2,3,3,4]\n",
    "\n",
    "sol = Solution()\n",
    "\n",
    "print(sol.removeDuplicates(arr))\n",
    "\n",
    "print(len(set(arr)))"
   ],
   "metadata": {
    "collapsed": false,
    "pycharm": {
     "name": "#%%\n"
    }
   }
  },
  {
   "cell_type": "code",
   "execution_count": 94,
   "outputs": [
    {
     "name": "stdout",
     "output_type": "stream",
     "text": [
      "5\n"
     ]
    },
    {
     "data": {
      "text/plain": "[1, 2, 3, 4, 5, 0, 0, 0, 0]"
     },
     "execution_count": 94,
     "metadata": {},
     "output_type": "execute_result"
    }
   ],
   "source": [
    "# Zeros\n",
    "\n",
    "class Solution:\n",
    "    def moveZeroes_extra(self, nums: list[int]) -> None:\n",
    "        \"\"\"\n",
    "        Do not return anything, modify nums in-place instead.\n",
    "        \"\"\"\n",
    "\n",
    "        num_sup = [el for el in nums if el != 0]\n",
    "\n",
    "        len_sup = len(num_sup)\n",
    "\n",
    "        for i in range(len(nums)):\n",
    "\n",
    "            if i < len_sup:\n",
    "                nums[i] = num_sup[i]\n",
    "\n",
    "            else:\n",
    "                nums[i] = 0\n",
    "\n",
    "        return nums\n",
    "\n",
    "    def moveZeroes(self, nums: list[int]) -> None:\n",
    "        \"\"\"\n",
    "        Do not return anything, modify nums in-place instead.\n",
    "        \"\"\"\n",
    "\n",
    "        i = 0\n",
    "        length = len(nums)\n",
    "\n",
    "        for j in range(0,len(nums)):\n",
    "\n",
    "            if nums[j] != 0:\n",
    "                nums[i] = nums[j]\n",
    "                i +=1\n",
    "\n",
    "        for j in range(i, len(nums)):\n",
    "            nums[j] = 0\n",
    "\n",
    "\n",
    "        return nums\n",
    "\n",
    "sol = Solution()\n",
    "\n",
    "arr = [0,1,0,2,3,4,0,5,0]\n",
    "\n",
    "sol.moveZeroes(arr)"
   ],
   "metadata": {
    "collapsed": false,
    "pycharm": {
     "name": "#%%\n"
    }
   }
  },
  {
   "cell_type": "code",
   "execution_count": 4,
   "outputs": [
    {
     "data": {
      "text/plain": "[2, 4, 0, 1]"
     },
     "execution_count": 4,
     "metadata": {},
     "output_type": "execute_result"
    }
   ],
   "source": [
    "#  Sort Array By Parity\n",
    "\n",
    "#Given an integer array nums, move all the even integers at the beginning of the array followed by all the odd integers.\n",
    "#Return any array that satisfies this condition.\n",
    "\n",
    "# А если идти с двух сторон???\n",
    "\n",
    "\n",
    "class Solution:\n",
    "    def sortArrayByParity(self, nums: list[int]) -> list[int]:\n",
    "\n",
    "        i = 0\n",
    "\n",
    "        for j in range(1, len(nums)):\n",
    "\n",
    "            if nums[j] % 2 == 0 and nums[i] % 2 == 1:\n",
    "                nums[i], nums[j] = nums[j], nums[i]\n",
    "                i += 1\n",
    "\n",
    "            if nums[i] % 2 == 0:\n",
    "                i += 1\n",
    "\n",
    "        return nums\n",
    "\n",
    "sol = Solution()\n",
    "\n",
    "nums = [2,4,1,0]\n",
    "\n",
    "sol.sortArrayByParity(nums)"
   ],
   "metadata": {
    "collapsed": false,
    "pycharm": {
     "name": "#%%\n"
    }
   }
  },
  {
   "cell_type": "code",
   "execution_count": 12,
   "outputs": [
    {
     "name": "stdout",
     "output_type": "stream",
     "text": [
      "7\n",
      "[0, 1, 2, 2, 3, 0, 2]\n"
     ]
    }
   ],
   "source": [
    "# Remove Element\n",
    "\n",
    "#Given an integer array nums and an integer val, remove all occurrences of val in nums in-place. The relative order of the elements may be changed.\n",
    "\n",
    "#Since it is impossible to change the length of the array in some languages, you must instead have the result be placed in the first part of the array nums. More formally, if there are k elements after removing the duplicates, then the first k elements of nums should hold the final result. It does not matter what you leave beyond the first k elements.\n",
    "\n",
    "#Return k after placing the final result in the first k slots of nums.\n",
    "\n",
    "#Do not allocate extra space for another array. You must do this by modifying the input array in-place with O(1) extra memory.\n",
    "\n",
    "class Solution:\n",
    "    def removeElement(self, nums: list[int], val: int) -> int:\n",
    "\n",
    "        size = len(nums)\n",
    "        idx = 0\n",
    "\n",
    "        while idx < size:\n",
    "\n",
    "            if nums[idx] == val:\n",
    "                nums.pop(idx)\n",
    "                size-=1\n",
    "            else:\n",
    "                idx+=1\n",
    "\n",
    "        return size\n",
    "\n",
    "\n",
    "sol = Solution()\n",
    "\n",
    "nums = [0,1,2,2,3,0,4,2]\n",
    "val = 4\n",
    "\n",
    "print(sol.removeElement(nums, val))\n",
    "\n",
    "print(nums)"
   ],
   "metadata": {
    "collapsed": false,
    "pycharm": {
     "name": "#%%\n"
    }
   }
  },
  {
   "cell_type": "markdown",
   "source": [
    "# Additional"
   ],
   "metadata": {
    "collapsed": false,
    "pycharm": {
     "name": "#%% md\n"
    }
   }
  },
  {
   "cell_type": "code",
   "execution_count": null,
   "outputs": [],
   "source": [
    "# Height Checker\n",
    "\n",
    "#A school is trying to take an annual photo of all the students. The students are asked to stand in a single file line in non-decreasing order by height. Let this ordering be represented by the integer array expected where expected[i] is the expected height of the ith student in line.\n",
    "\n",
    "#You are given an integer array heights representing the current order that the students are standing in. Each heights[i] is the height of the ith student in line (0-indexed).\n",
    "\n",
    "class Solution:\n",
    "    def heightChecker(self, heights: list[int]) -> int:\n",
    "\n",
    "        expected = sorted(heights)\n",
    "        cnt = 0\n",
    "\n",
    "        for i in range(len(heights)):\n",
    "            if expected[i] != heights[i]:\n",
    "                cnt += 1\n",
    "\n",
    "        return cnt\n",
    "\n"
   ],
   "metadata": {
    "collapsed": false,
    "pycharm": {
     "name": "#%%\n"
    }
   }
  },
  {
   "cell_type": "code",
   "execution_count": null,
   "outputs": [],
   "source": [
    "#   Third Maximum Number\n",
    "\n",
    "# Given an integer array nums, return the third distinct maximum number in this array. If the third maximum does not exist, return the maximum number.\n",
    "\n"
   ],
   "metadata": {
    "collapsed": false,
    "pycharm": {
     "name": "#%%\n"
    }
   }
  }
 ],
 "metadata": {
  "kernelspec": {
   "display_name": "Python 3",
   "language": "python",
   "name": "python3"
  },
  "language_info": {
   "codemirror_mode": {
    "name": "ipython",
    "version": 2
   },
   "file_extension": ".py",
   "mimetype": "text/x-python",
   "name": "python",
   "nbconvert_exporter": "python",
   "pygments_lexer": "ipython2",
   "version": "2.7.6"
  }
 },
 "nbformat": 4,
 "nbformat_minor": 0
}