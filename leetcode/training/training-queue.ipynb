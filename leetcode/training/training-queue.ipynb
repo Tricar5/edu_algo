{
 "cells": [
  {
   "cell_type": "markdown",
   "source": [
    "# Queue\n",
    "\n",
    "[Queue & Stack](https://leetcode.com/explore/learn/card/queue-stack/)"
   ],
   "metadata": {
    "collapsed": false,
    "pycharm": {
     "name": "#%% md\n"
    }
   }
  },
  {
   "cell_type": "code",
   "execution_count": 20,
   "outputs": [],
   "source": [
    "class MyCircularQueue:\n",
    "    \"\"\"\n",
    "    Initializes the object with the size of the queue to be k.\n",
    "    \"\"\"\n",
    "\n",
    "    def __init__(self, k: int):\n",
    "\n",
    "        self.size = k\n",
    "        self.queue = []\n",
    "\n",
    "\n",
    "    def enQueue(self, value: int) -> bool:\n",
    "        \"\"\"\n",
    "         Inserts an element into the circular queue. Return true if the operation is successful.\n",
    "        :param value:\n",
    "        :return:\n",
    "        \"\"\"\n",
    "\n",
    "        if self.isFull():\n",
    "            return False\n",
    "\n",
    "        self.queue.append(value)\n",
    "\n",
    "        return True\n",
    "\n",
    "    def deQueue(self) -> bool:\n",
    "        \"\"\"\n",
    "        Deletes an element from the circular queue. Return true if the operation is successful.\n",
    "        :return:\n",
    "        \"\"\"\n",
    "        if self.isEmpty():\n",
    "            return None\n",
    "\n",
    "        self.queue.pop(0)\n",
    "        return True\n",
    "\n",
    "    def Front(self) -> int:\n",
    "        \"\"\"\n",
    "        Gets the front item from the queue. If the queue is empty, return -1.\n",
    "        :return:\n",
    "        \"\"\"\n",
    "        return self.queue[0] if not self.isEmpty() else -1\n",
    "\n",
    "\n",
    "    def Rear(self) -> int:\n",
    "        \"\"\"\n",
    "        Gets the last item from the queue. If the queue is empty, return -1.\n",
    "        :return:\n",
    "        \"\"\"\n",
    "        return self.queue[len(self.queue) - 1] if not self.isEmpty() else -1\n",
    "\n",
    "\n",
    "    def isEmpty(self) -> bool:\n",
    "        \"\"\"\n",
    "        Checks whether the circular queue is empty or not.\n",
    "        :return:\n",
    "        \"\"\"\n",
    "        return len(self.queue) == 0\n",
    "\n",
    "    def isFull(self) -> bool:\n",
    "        \"\"\"\n",
    "        Checks whether the circular queue is full or not.\n",
    "        :return:\n",
    "        \"\"\"\n",
    "        return len(self.queue) == self.size"
   ],
   "metadata": {
    "collapsed": false,
    "pycharm": {
     "name": "#%%\n"
    }
   }
  },
  {
   "cell_type": "code",
   "execution_count": 23,
   "outputs": [],
   "source": [
    "class MyCircularQueue:\n",
    "\n",
    "    def __init__(self, k: int):\n",
    "        self.k = k\n",
    "        self.queue = [None] * k\n",
    "        self.head = 0\n",
    "        self.count = 0\n",
    "\n",
    "\n",
    "    def enQueue(self, value: int) -> bool:\n",
    "        if self.count == self.k:\n",
    "            return False\n",
    "        self.queue[(self.head + self.count) % self.k] = value\n",
    "        self.count += 1\n",
    "        return True\n",
    "\n",
    "\n",
    "    def deQueue(self) -> bool:\n",
    "        if self.count == 0:\n",
    "            return False\n",
    "        self.queue[self.head] = None\n",
    "        self.count -= 1\n",
    "        self.head = (self.head + 1) % self.k\n",
    "        return True\n",
    "\n",
    "\n",
    "    def Front(self) -> int:\n",
    "        if self.count == 0:\n",
    "            return -1\n",
    "        return self.queue[self.head]\n",
    "\n",
    "\n",
    "    def Rear(self) -> int:\n",
    "        if self.count == 0:\n",
    "            return -1\n",
    "        return self.queue[(self.head + self.count - 1) % self.k]\n",
    "\n",
    "\n",
    "    def isEmpty(self) -> bool:\n",
    "        return self.count == 0\n",
    "\n",
    "\n",
    "    def isFull(self) -> bool:\n",
    "        return self.count == self.k"
   ],
   "metadata": {
    "collapsed": false,
    "pycharm": {
     "name": "#%%\n"
    }
   }
  },
  {
   "cell_type": "code",
   "execution_count": 24,
   "outputs": [
    {
     "name": "stdout",
     "output_type": "stream",
     "text": [
      "True\n",
      "True\n",
      "True\n",
      "False\n",
      "3\n",
      "True\n",
      "True\n",
      "True\n",
      "4\n"
     ]
    }
   ],
   "source": [
    "myCircularQueue =  MyCircularQueue(3)\n",
    "\n",
    "print(myCircularQueue.enQueue(1)) #\n",
    "print(myCircularQueue.enQueue(2)) #\n",
    "print(myCircularQueue.enQueue(3)) #\n",
    "print(myCircularQueue.enQueue(4)) #\n",
    "print(myCircularQueue.Rear())\n",
    "print(myCircularQueue.isFull())\n",
    "print(myCircularQueue.deQueue())\n",
    "print(myCircularQueue.enQueue(4))\n",
    "print(myCircularQueue.Rear())"
   ],
   "metadata": {
    "collapsed": false,
    "pycharm": {
     "name": "#%%\n"
    }
   }
  },
  {
   "cell_type": "code",
   "execution_count": null,
   "outputs": [],
   "source": [],
   "metadata": {
    "collapsed": false,
    "pycharm": {
     "name": "#%%\n"
    }
   }
  }
 ],
 "metadata": {
  "kernelspec": {
   "display_name": "Python 3",
   "language": "python",
   "name": "python3"
  },
  "language_info": {
   "codemirror_mode": {
    "name": "ipython",
    "version": 2
   },
   "file_extension": ".py",
   "mimetype": "text/x-python",
   "name": "python",
   "nbconvert_exporter": "python",
   "pygments_lexer": "ipython2",
   "version": "2.7.6"
  }
 },
 "nbformat": 4,
 "nbformat_minor": 0
}