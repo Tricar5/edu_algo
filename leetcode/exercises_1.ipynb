{
 "cells": [
  {
   "cell_type": "markdown",
   "source": [
    "# Треугольник Паскаля"
   ],
   "metadata": {
    "collapsed": false,
    "pycharm": {
     "name": "#%% md\n"
    }
   }
  },
  {
   "cell_type": "code",
   "execution_count": 17,
   "outputs": [
    {
     "data": {
      "text/plain": "[[1], [1, 1], [1, 2, 1], [1, 3, 3, 1], [1, 4, 6, 4, 1]]"
     },
     "execution_count": 17,
     "metadata": {},
     "output_type": "execute_result"
    }
   ],
   "source": [
    "import math\n",
    "\n",
    "\n",
    "class Solution(object):\n",
    "    def __init__(self):\n",
    "        pass\n",
    "\n",
    "    def pascal_triangle(self, n: int) -> list:\n",
    "        triangle = []\n",
    "        for i in range(0,n):\n",
    "            triangle.append([])\n",
    "            triangle[i].append(1)\n",
    "            for j in range(1, i):\n",
    "                triangle[i].append((triangle[i - 1][j - 1] + triangle[i - 1][j]))\n",
    "            if i > 0:\n",
    "                triangle[i].append(1)\n",
    "\n",
    "            #triangle.append(level)\n",
    "\n",
    "        return triangle\n",
    "\n",
    "solver = Solution()\n",
    "solver.pascal_triangle(5)"
   ],
   "metadata": {
    "collapsed": false,
    "pycharm": {
     "name": "#%%\n"
    }
   }
  },
  {
   "cell_type": "markdown",
   "source": [],
   "metadata": {
    "collapsed": false,
    "pycharm": {
     "name": "#%% md\n"
    }
   }
  },
  {
   "cell_type": "code",
   "execution_count": 76,
   "outputs": [
    {
     "data": {
      "text/plain": "5"
     },
     "execution_count": 76,
     "metadata": {},
     "output_type": "execute_result"
    }
   ],
   "source": [
    "# BRUTE FORCE\n",
    "\n",
    "class Solution(object):\n",
    "\n",
    "    def __init__(self):\n",
    "        pass\n",
    "\n",
    "    def bulbSwitch(self, n: int) -> int:\n",
    "        bulbs = [1 for i in range(n)]\n",
    "        for i in range(2,n+1):\n",
    "            bulbs = [self.switch(bulbs[j]) if (j+1)%i == 0 else bulbs[j] for j in range(0,n)]\n",
    "        return sum(bulbs)\n",
    "\n",
    "    def switch(self, bulb):\n",
    "        return 0 if bulb == 1 else 1"
   ],
   "metadata": {
    "collapsed": false,
    "pycharm": {
     "name": "#%%\n"
    }
   }
  },
  {
   "cell_type": "code",
   "execution_count": 77,
   "outputs": [
    {
     "data": {
      "text/plain": "5"
     },
     "execution_count": 77,
     "metadata": {},
     "output_type": "execute_result"
    }
   ],
   "source": [
    "\"\"\"A lightbulb stays on if we flip it even times. At i th rounds, we flip a lightbulk that contains factor i , so now the question becomes how to determine the total number of number <= n that contains even number of factors excluding 1, or in other words, odd number of factors including 1.\n",
    "\n",
    "Any positive whole number can be expressed as num = a^x * b^y * ... where a, b, ... are primes, and its number of factors can be determined as K = (x + 1) * (y + 1) *..., we want K to be an odd number, so it means x, y, ..., they all have to be even. In other words, num has to be a perfect square.\"\"\"\n",
    "\n",
    "# MATH\n",
    "import math\n",
    "class Solution(object):\n",
    "\n",
    "    def bulbSwitch(self, n: int) -> int:\n",
    "        return int(math.sqrt(n))\n",
    "\n",
    "bulb = Solution()\n",
    "\n",
    "bulb.bulbSwitch(26)"
   ],
   "metadata": {
    "collapsed": false,
    "pycharm": {
     "name": "#%%\n"
    }
   }
  },
  {
   "cell_type": "code",
   "execution_count": null,
   "outputs": [],
   "source": [],
   "metadata": {
    "collapsed": false,
    "pycharm": {
     "name": "#%%\n"
    }
   }
  }
 ],
 "metadata": {
  "kernelspec": {
   "display_name": "Python 3",
   "language": "python",
   "name": "python3"
  },
  "language_info": {
   "codemirror_mode": {
    "name": "ipython",
    "version": 2
   },
   "file_extension": ".py",
   "mimetype": "text/x-python",
   "name": "python",
   "nbconvert_exporter": "python",
   "pygments_lexer": "ipython2",
   "version": "2.7.6"
  }
 },
 "nbformat": 4,
 "nbformat_minor": 0
}